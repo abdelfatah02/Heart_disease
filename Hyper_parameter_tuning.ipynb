{
 "cells": [
  {
   "cell_type": "code",
   "execution_count": 24,
   "id": "c75ad5f4",
   "metadata": {},
   "outputs": [],
   "source": [
    "import pandas as pd\n",
    "from sklearn.model_selection import train_test_split, GridSearchCV, RandomizedSearchCV\n",
    "from sklearn.ensemble import RandomForestClassifier\n",
    "from sklearn.metrics import accuracy_score, classification_report\n",
    "import joblib"
   ]
  },
  {
   "cell_type": "code",
   "execution_count": 25,
   "id": "a8861e43",
   "metadata": {},
   "outputs": [],
   "source": [
    "# Load data\n",
    "df = pd.read_csv('data/heart_disease_selected_features.csv')\n",
    "X = df.drop('target', axis=1)\n",
    "y = df['target']\n"
   ]
  },
  {
   "cell_type": "code",
   "execution_count": 26,
   "id": "3cf436d2",
   "metadata": {},
   "outputs": [],
   "source": [
    "# Split data\n",
    "x_train, x_test, y_train, y_test = train_test_split(X, y, test_size=0.2, random_state=42, stratify=y)"
   ]
  },
  {
   "cell_type": "code",
   "execution_count": 27,
   "id": "5a8cd8ed",
   "metadata": {},
   "outputs": [
    {
     "name": "stdout",
     "output_type": "stream",
     "text": [
      "Baseline Random Forest Accuracy:0.78\n"
     ]
    }
   ],
   "source": [
    "# Baseline model\n",
    "baseline_rf = RandomForestClassifier(random_state=42)\n",
    "baseline_rf.fit(x_train, y_train)\n",
    "baseline_pred = baseline_rf.predict(x_test)\n",
    "baseline_acc = accuracy_score(y_test, baseline_pred)\n",
    "print(f\"Baseline Random Forest Accuracy:{baseline_acc:.2f}\")"
   ]
  },
  {
   "cell_type": "code",
   "execution_count": 28,
   "id": "b2f9a3c6",
   "metadata": {},
   "outputs": [
    {
     "name": "stdout",
     "output_type": "stream",
     "text": [
      "Best GridSearchCV Params: {'max_depth': 5, 'min_samples_split': 10, 'n_estimators': 50}\n",
      "GridSearchCV Accuracy: 0.7833333333333333\n"
     ]
    }
   ],
   "source": [
    "# 1. GridSearchCV\n",
    "param_grid = {\n",
    "    'n_estimators': [50, 100, 200],\n",
    "    'max_depth': [None, 5, 10, 20],\n",
    "    'min_samples_split': [2, 5, 10]\n",
    "}\n",
    "grid_search = GridSearchCV(RandomForestClassifier(random_state=42), param_grid, cv=5, n_jobs=-1)\n",
    "grid_search.fit(x_train, y_train)\n",
    "print(\"Best GridSearchCV Params:\", grid_search.best_params_)\n",
    "grid_pred = grid_search.predict(x_test)\n",
    "grid_acc = accuracy_score(y_test, grid_pred)\n",
    "print(\"GridSearchCV Accuracy:\", grid_acc)\n"
   ]
  },
  {
   "cell_type": "code",
   "execution_count": 29,
   "id": "2cffd005",
   "metadata": {},
   "outputs": [
    {
     "name": "stdout",
     "output_type": "stream",
     "text": [
      "Best RandomizedSearchCV Params: {'max_depth': 10, 'min_samples_split': 9, 'n_estimators': 70}\n",
      "RandomizedSearchCV Accuracy: 0.7666666666666667\n"
     ]
    }
   ],
   "source": [
    "# 2. RandomizedSearchCV\n",
    "from scipy.stats import randint\n",
    "param_dist = {\n",
    "    'n_estimators': randint(50, 200),\n",
    "    'max_depth': [None, 5, 10, 20],\n",
    "    'min_samples_split': randint(2, 11)\n",
    "}\n",
    "random_search = RandomizedSearchCV(RandomForestClassifier(random_state=42), param_dist, n_iter=10, cv=5, n_jobs=-1, random_state=42)\n",
    "random_search.fit(x_train, y_train)\n",
    "print(\"Best RandomizedSearchCV Params:\", random_search.best_params_)\n",
    "rand_pred = random_search.predict(x_test)\n",
    "rand_acc = accuracy_score(y_test, rand_pred)\n",
    "print(\"RandomizedSearchCV Accuracy:\", rand_acc)"
   ]
  },
  {
   "cell_type": "code",
   "execution_count": 30,
   "id": "48d4fb3a",
   "metadata": {},
   "outputs": [
    {
     "name": "stdout",
     "output_type": "stream",
     "text": [
      "\n",
      "--- Model Comparison ---\n",
      "Baseline Accuracy: 0.783\n",
      "GridSearchCV Accuracy: 0.783\n",
      "RandomizedSearchCV Accuracy: 0.767\n"
     ]
    }
   ],
   "source": [
    "# Compare results\n",
    "print(\"\\n--- Model Comparison ---\")\n",
    "print(f\"Baseline Accuracy: {baseline_acc:.3f}\")\n",
    "print(f\"GridSearchCV Accuracy: {grid_acc:.3f}\")\n",
    "print(f\"RandomizedSearchCV Accuracy: {rand_acc:.3f}\")\n"
   ]
  },
  {
   "cell_type": "code",
   "execution_count": 31,
   "id": "9a9263a4",
   "metadata": {},
   "outputs": [
    {
     "name": "stdout",
     "output_type": "stream",
     "text": [
      "\n",
      "✔ Best performing model: GridSearchCV Random Forest\n",
      "              precision    recall  f1-score   support\n",
      "\n",
      "           0       0.76      0.88      0.81        32\n",
      "           1       0.83      0.68      0.75        28\n",
      "\n",
      "    accuracy                           0.78        60\n",
      "   macro avg       0.79      0.78      0.78        60\n",
      "weighted avg       0.79      0.78      0.78        60\n",
      "\n"
     ]
    }
   ],
   "source": [
    "# Best performing model\n",
    "if grid_acc >= rand_acc and grid_acc >= baseline_acc:\n",
    "    print(\"\\n✔ Best performing model: GridSearchCV Random Forest\")\n",
    "    print(classification_report(y_test, grid_pred))\n",
    "elif rand_acc >= grid_acc and rand_acc >= baseline_acc:\n",
    "    print(\"\\n✔ Best performing model: RandomizedSearchCV Random Forest\")\n",
    "    print(classification_report(y_test, rand_pred))\n",
    "else:\n",
    "    print(\"\\n✔ Best performing model: Baseline Random Forest\")\n",
    "    print(classification_report(y_test, baseline_pred))"
   ]
  },
  {
   "cell_type": "code",
   "execution_count": null,
   "id": "64368b97",
   "metadata": {},
   "outputs": [
    {
     "ename": "NameError",
     "evalue": "name 'scaler' is not defined",
     "output_type": "error",
     "traceback": [
      "\u001b[31m---------------------------------------------------------------------------\u001b[39m",
      "\u001b[31mNameError\u001b[39m                                 Traceback (most recent call last)",
      "\u001b[36mCell\u001b[39m\u001b[36m \u001b[39m\u001b[32mIn[36]\u001b[39m\u001b[32m, line 11\u001b[39m\n\u001b[32m      1\u001b[39m final_model = grid_search.best_estimator_ \u001b[38;5;28;01mif\u001b[39;00m grid_acc >= rand_acc \u001b[38;5;28;01melse\u001b[39;00m random_search.best_estimator_\n\u001b[32m      6\u001b[39m joblib.dump(final_model, \u001b[33m\"\u001b[39m\u001b[33mD:\u001b[39m\u001b[38;5;130;01m\\\\\u001b[39;00m\u001b[33mTraining Sets\u001b[39m\u001b[38;5;130;01m\\\\\u001b[39;00m\u001b[33mSprints\u001b[39m\u001b[38;5;130;01m\\\\\u001b[39;00m\u001b[33mHeart_Disease\u001b[39m\u001b[38;5;130;01m\\\\\u001b[39;00m\u001b[33mModels\u001b[39m\u001b[38;5;130;01m\\\\\u001b[39;00m\u001b[33mfinal_model.pkl\u001b[39m\u001b[33m\"\u001b[39m)\n\u001b[32m      9\u001b[39m joblib.dump({\n\u001b[32m     10\u001b[39m     \u001b[33m\"\u001b[39m\u001b[33mmodel\u001b[39m\u001b[33m\"\u001b[39m: final_model,\n\u001b[32m---> \u001b[39m\u001b[32m11\u001b[39m     \u001b[33m\"\u001b[39m\u001b[33mscaler\u001b[39m\u001b[33m\"\u001b[39m: \u001b[43mscaler\u001b[49m,\n\u001b[32m     12\u001b[39m     \u001b[33m\"\u001b[39m\u001b[33mcolumns\u001b[39m\u001b[33m\"\u001b[39m: X.columns.tolist()\n\u001b[32m     13\u001b[39m }, \u001b[33m\"\u001b[39m\u001b[33m../models/final_model.pkl\u001b[39m\u001b[33m\"\u001b[39m)\n",
      "\u001b[31mNameError\u001b[39m: name 'scaler' is not defined"
     ]
    }
   ],
   "source": [
    "final_model = grid_search.best_estimator_ if grid_acc >= rand_acc else random_search.best_estimator_\n",
    "\n",
    "\n",
    "\n",
    "\n",
    "joblib.dump(final_model, \"D:\\\\Training Sets\\\\Sprints\\\\Heart_Disease\\\\Models\\\\final_model.pkl\")"
   ]
  },
  {
   "cell_type": "code",
   "execution_count": null,
   "id": "e73b7e8f",
   "metadata": {},
   "outputs": [],
   "source": []
  }
 ],
 "metadata": {
  "kernelspec": {
   "display_name": "Python 3",
   "language": "python",
   "name": "python3"
  },
  "language_info": {
   "codemirror_mode": {
    "name": "ipython",
    "version": 3
   },
   "file_extension": ".py",
   "mimetype": "text/x-python",
   "name": "python",
   "nbconvert_exporter": "python",
   "pygments_lexer": "ipython3",
   "version": "3.12.10"
  }
 },
 "nbformat": 4,
 "nbformat_minor": 5
}
